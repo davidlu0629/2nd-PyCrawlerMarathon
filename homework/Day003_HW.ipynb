{
 "cells": [
  {
   "cell_type": "markdown",
   "metadata": {},
   "source": [
    "# Python 下載XML檔案與解析\n",
    "\n",
    "\n",
    "* 了解 xml 檔案格式與內容\n",
    "* 能夠利用套件存取 xml 格式的檔案\n"
   ]
  },
  {
   "cell_type": "markdown",
   "metadata": {},
   "source": [
    "## 作業目標\n",
    "\n",
    "* 比較一下範例檔案中的「File I/O」與「xmltodict」讀出來的內容有什麼差異\n",
    "\n",
    "* 根據範例檔案的結果：\n",
    "    1. 請問高雄市有多少地區有溫度資料？\n",
    "    2. 請取出每一個地區所記錄的第一個時間點跟溫度\n",
    "    3. 請取出第一個地區所記錄的每一個時間點跟溫度"
   ]
  },
  {
   "cell_type": "markdown",
   "metadata": {},
   "source": [
    "### 比較一下範例檔案中的「File I/O」與「xmltodict」讀出來的內容有什麼差異\n"
   ]
  },
  {
   "cell_type": "markdown",
   "metadata": {},
   "source": [
    "* File I/O: 讀出來的就是raw data，未經任何處理\n",
    "* xmltodict: parse出值得注意的資料"
   ]
  },
  {
   "cell_type": "markdown",
   "metadata": {},
   "source": [
    "### 根據範例檔案的結果：\n",
    "\n",
    "1. 請問高雄市有多少地區有溫度資料？\n",
    "2. 請取出每一個地區所記錄的第一個時間點跟溫度\n",
    "3. 請取出第一個地區所記錄的每一個時間點跟溫度"
   ]
  },
  {
   "cell_type": "code",
   "execution_count": 55,
   "metadata": {},
   "outputs": [],
   "source": [
    "fh = open(\"./Day003/64_72hr_CH.xml\", \"r\", encoding=\"utf-8\")\n",
    "xml = fh.read()\n",
    "fh.close()\n"
   ]
  },
  {
   "cell_type": "code",
   "execution_count": 56,
   "metadata": {},
   "outputs": [],
   "source": [
    "import xmltodict\n",
    "d= dict(xmltodict.parse(xml))"
   ]
  },
  {
   "cell_type": "code",
   "execution_count": 57,
   "metadata": {},
   "outputs": [
    {
     "name": "stdout",
     "output_type": "stream",
     "text": [
      "38\n"
     ]
    }
   ],
   "source": [
    "# 1. 請問高雄市有多少地區有溫度資料？\n",
    "num = 0\n",
    "\n",
    "for x in range (0, len(d['cwbopendata']['dataset']['locations']['location'])):\n",
    "    found = False\n",
    "    for y in range (0, len(d['cwbopendata']['dataset']['locations']['location'][x]['weatherElement'])):\n",
    "        if d['cwbopendata']['dataset']['locations']['location'][x]['weatherElement'][y]['description']=='溫度':\n",
    "            x = x+1\n",
    "            found = True\n",
    "        if found:\n",
    "            break\n",
    "        \n",
    "print(x)"
   ]
  },
  {
   "cell_type": "code",
   "execution_count": 58,
   "metadata": {},
   "outputs": [
    {
     "name": "stdout",
     "output_type": "stream",
     "text": [
      "Time: \n",
      "['2019-06-28T12:00:00+08:00', '2019-06-28T12:00:00+08:00', '2019-06-28T12:00:00+08:00', '2019-06-28T12:00:00+08:00', '2019-06-28T12:00:00+08:00', '2019-06-28T12:00:00+08:00', '2019-06-28T12:00:00+08:00', '2019-06-28T12:00:00+08:00', '2019-06-28T12:00:00+08:00', '2019-06-28T12:00:00+08:00', '2019-06-28T12:00:00+08:00', '2019-06-28T12:00:00+08:00', '2019-06-28T12:00:00+08:00', '2019-06-28T12:00:00+08:00', '2019-06-28T12:00:00+08:00', '2019-06-28T12:00:00+08:00', '2019-06-28T12:00:00+08:00', '2019-06-28T12:00:00+08:00', '2019-06-28T12:00:00+08:00', '2019-06-28T12:00:00+08:00', '2019-06-28T12:00:00+08:00', '2019-06-28T12:00:00+08:00', '2019-06-28T12:00:00+08:00', '2019-06-28T12:00:00+08:00', '2019-06-28T12:00:00+08:00', '2019-06-28T12:00:00+08:00', '2019-06-28T12:00:00+08:00', '2019-06-28T12:00:00+08:00', '2019-06-28T12:00:00+08:00', '2019-06-28T12:00:00+08:00', '2019-06-28T12:00:00+08:00', '2019-06-28T12:00:00+08:00', '2019-06-28T12:00:00+08:00', '2019-06-28T12:00:00+08:00', '2019-06-28T12:00:00+08:00', '2019-06-28T12:00:00+08:00', '2019-06-28T12:00:00+08:00', '2019-06-28T12:00:00+08:00']\n",
      "\n",
      "Temperature: \n",
      "['33', '33', '33', '34', '32', '33', '33', '33', '33', '32', '33', '34', '33', '34', '34', '34', '33', '34', '34', '35', '34', '34', '34', '33', '33', '33', '32', '32', '32', '34', '34', '34', '33', '36', '34', '34', '31', '29']\n"
     ]
    }
   ],
   "source": [
    "# 2. 請取出每一個地區所記錄的第一個時間點跟溫度\n",
    "\n",
    "timepoint = []\n",
    "temper = []\n",
    "\n",
    "for x in range (0, len(d['cwbopendata']['dataset']['locations']['location'])):\n",
    "    found = False\n",
    "    for y in range (0, len(d['cwbopendata']['dataset']['locations']['location'][x]['weatherElement'])):\n",
    "        if d['cwbopendata']['dataset']['locations']['location'][x]['weatherElement'][y]['description']=='溫度':\n",
    "            timepoint.append(d['cwbopendata']['dataset']['locations']['location'][x]['weatherElement'][y]['time'][0]['dataTime'])\n",
    "            temper.append(d['cwbopendata']['dataset']['locations']['location'][x]['weatherElement'][y]['time'][0]['elementValue']['value'])\n",
    "            found = True\n",
    "        if found:\n",
    "            break\n",
    "\n",
    "print(\"Time: \")\n",
    "print(timepoint)\n",
    "print(\"\\nTemperature: \")\n",
    "print(temper)"
   ]
  },
  {
   "cell_type": "code",
   "execution_count": 59,
   "metadata": {},
   "outputs": [
    {
     "name": "stdout",
     "output_type": "stream",
     "text": [
      "Time: \n",
      "['2019-06-28T12:00:00+08:00', '2019-06-28T15:00:00+08:00', '2019-06-28T18:00:00+08:00', '2019-06-28T21:00:00+08:00', '2019-06-29T00:00:00+08:00', '2019-06-29T03:00:00+08:00', '2019-06-29T06:00:00+08:00', '2019-06-29T09:00:00+08:00', '2019-06-29T12:00:00+08:00', '2019-06-29T15:00:00+08:00', '2019-06-29T18:00:00+08:00', '2019-06-29T21:00:00+08:00', '2019-06-30T00:00:00+08:00', '2019-06-30T03:00:00+08:00', '2019-06-30T06:00:00+08:00', '2019-06-30T09:00:00+08:00', '2019-06-30T12:00:00+08:00', '2019-06-30T15:00:00+08:00', '2019-06-30T18:00:00+08:00', '2019-06-30T21:00:00+08:00', '2019-07-01T00:00:00+08:00', '2019-07-01T03:00:00+08:00', '2019-07-01T06:00:00+08:00', '2019-07-01T09:00:00+08:00']\n",
      "\n",
      "Temperature: \n",
      "['33', '33', '32', '30', '30', '29', '28', '31', '32', '32', '31', '30', '29', '28', '28', '31', '32', '32', '31', '30', '29', '29', '28', '31']\n"
     ]
    }
   ],
   "source": [
    "# 3. 請取出第一個地區所記錄的每一個時間點跟溫度\n",
    "\n",
    "timepoint = []\n",
    "temper = []\n",
    "\n",
    "\n",
    "for y in range (0, len(d['cwbopendata']['dataset']['locations']['location'][0]['weatherElement'])):\n",
    "    if d['cwbopendata']['dataset']['locations']['location'][0]['weatherElement'][y]['description']=='溫度':\n",
    "        for z in range (0, len(d['cwbopendata']['dataset']['locations']['location'][0]['weatherElement'][y]['time'])):\n",
    "            \n",
    "            timepoint.append(d['cwbopendata']['dataset']['locations']['location'][0]['weatherElement'][y]['time'][z]['dataTime'])\n",
    "            temper.append(d['cwbopendata']['dataset']['locations']['location'][0]['weatherElement'][y]['time'][z]['elementValue']['value'])\n",
    "        break\n",
    "\n",
    "print(\"Time: \")\n",
    "print(timepoint)\n",
    "print(\"\\nTemperature: \")\n",
    "print(temper)"
   ]
  },
  {
   "cell_type": "code",
   "execution_count": null,
   "metadata": {},
   "outputs": [],
   "source": []
  }
 ],
 "metadata": {
  "kernelspec": {
   "display_name": "Python 3",
   "language": "python",
   "name": "python3"
  },
  "language_info": {
   "codemirror_mode": {
    "name": "ipython",
    "version": 3
   },
   "file_extension": ".py",
   "mimetype": "text/x-python",
   "name": "python",
   "nbconvert_exporter": "python",
   "pygments_lexer": "ipython3",
   "version": "3.7.5"
  }
 },
 "nbformat": 4,
 "nbformat_minor": 2
}
