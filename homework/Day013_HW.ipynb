{
 "cells": [
  {
   "cell_type": "markdown",
   "metadata": {},
   "source": [
    "# PTT 網路爬蟲實作練習\n",
    "\n",
    "\n",
    "* 能夠利用 Request + BeatifulSour 撰寫爬蟲，並存放到合適的資料結構\n"
   ]
  },
  {
   "cell_type": "markdown",
   "metadata": {},
   "source": [
    "## 作業目標\n",
    "\n",
    "根據範例 ，完成以下問題：\n",
    "\n",
    "* ① 印出最新文章的「作者」「標題」「時間」\n",
    "* ② 印出第一頁所有文章的「作者」「標題」「時間」\n"
   ]
  },
  {
   "cell_type": "code",
   "execution_count": 1,
   "metadata": {},
   "outputs": [],
   "source": [
    "import requests\n",
    "from bs4 import BeautifulSoup\n",
    "\n",
    "url = 'https://www.ptt.cc/bbs/NBA/index.html'\n",
    "r = requests.get(url)\n",
    "\n",
    "soup = BeautifulSoup(r.text, \"html5lib\")"
   ]
  },
  {
   "cell_type": "markdown",
   "metadata": {},
   "source": [
    "### ① 印出最新文章的「作者」「標題」「時間」"
   ]
  },
  {
   "cell_type": "code",
   "execution_count": 14,
   "metadata": {
    "scrolled": true
   },
   "outputs": [
    {
     "name": "stdout",
     "output_type": "stream",
     "text": [
      "Author Name: sthho (sthho)\n",
      "Title: [討論] NBA停賽\\的可能性?!\n",
      "Post Time: Mon Mar  9 11:34:29 2020\n"
     ]
    }
   ],
   "source": [
    "NewestPost = soup.find(class_=\"title\")\n",
    "NewestPostr = requests.get('https://www.ptt.cc'+NewestPost.find('a')['href'])\n",
    "NewSoup = BeautifulSoup(NewestPostr.text, \"html5lib\")\n",
    "allmeta = NewSoup.find_all('span','article-meta-value')\n",
    "AuthorName = allmeta[0]\n",
    "print('Author Name: '+ AuthorName.text)\n",
    "TitleName = allmeta[2]\n",
    "print('Title: '+TitleName.text.split(\"-\")[0])\n",
    "TimePoint = allmeta[3]\n",
    "print('Post Time: '+TimePoint.text)\n",
    "#NewSoup"
   ]
  },
  {
   "cell_type": "markdown",
   "metadata": {},
   "source": [
    "### ② 印出第一頁所有文章的「作者」「標題」「時間」"
   ]
  },
  {
   "cell_type": "code",
   "execution_count": 21,
   "metadata": {},
   "outputs": [
    {
     "name": "stdout",
     "output_type": "stream",
     "text": [
      "Author Name: sthho (sthho)\n",
      "Title: [討論] NBA停賽\\的可能性?!\n",
      "Post Time: Mon Mar  9 11:34:29 2020\n",
      "Author Name: Vedan (味丹)\n",
      "Title: [公告] 第一次被退文，可在三天後刪除退文\n",
      "Post Time: Mon Mar  9 11:44:26 2020\n",
      "Author Name: sodistrues (true)\n",
      "Title: [新聞]全陣快艇吞第一敗 湖人本季洛城內戰首開\n",
      "Post Time: Mon Mar  9 11:44:29 2020\n",
      "Author Name: NSYSUheng (Pain)\n",
      "Title: [情報] 雷霆本季16次前三節落後逆轉勝 聯盟最多\n",
      "Post Time: Mon Mar  9 11:46:59 2020\n",
      "Author Name: MayBeSoft (小小瑜兒)\n",
      "Title: [討論] 快艇是不是被騙了買到假貨啊\n",
      "Post Time: Mon Mar  9 11:59:13 2020\n",
      "Author Name: UCAthena (Let's go __)\n",
      "Title: [花邊] 球迷嗆Walton：你這白痴，你有三分冠軍\n",
      "Post Time: Mon Mar  9 12:55:19 2020\n",
      "Author Name: IAMGRICE (重雙我)\n",
      "Title: Re: [花邊] 歐尼爾:誰能擊敗這五個人！\n",
      "Post Time: Mon Mar  9 14:05:10 2020\n",
      "Author Name: ericgary (艾瑞克蓋瑞)\n",
      "Title: Re: [BOX ] Lakers 112:103 Clippers 數據\n",
      "Post Time: Mon Mar  9 14:26:53 2020\n",
      "Author Name: manuginobii (做愛校 果真累人)\n",
      "Title: [情報] 28次失誤?籃網臨時教練:前7個是球有點滑\n",
      "Post Time: Mon Mar  9 15:11:57 2020\n",
      "Author Name: KyrieIrving1 (King of New York)\n",
      "Title: [情報] SNY記者：一些籃網老將質疑阿特金森能否\n",
      "Post Time: Mon Mar  9 15:24:04 2020\n",
      "Author Name: thnlkj0665 (灰色地帶)\n",
      "Title: [花邊] 11年來首見盛況 McGee：湖人當今世界最強\n",
      "Post Time: Mon Mar  9 16:26:52 2020\n",
      "Author Name: teramars (tomorrow never knows)\n",
      "Title: [新聞] 柯瑞染流感引新冠肺炎恐慌　快艇主帥籲\n",
      "Post Time: Mon Mar  9 16:35:00 2020\n",
      "Author Name: YOYOISGOOD (YOYOISGOOD)\n",
      "Title: [討論] LBJ現今擁有的成就已經能超過賈霸了嗎\n",
      "Post Time: Mon Mar  9 17:09:04 2020\n",
      "Author Name: thnlkj0665 (灰色地帶)\n",
      "Title: [情報] Rajon Rondo 生涯助攻數升至史上第15位\n",
      "Post Time: Mon Mar  9 17:51:52 2020\n",
      "Author Name: a78998042a (Benjimin)\n",
      "Title: [情報] NBA Standings (Mar. 09, 2020)\n",
      "Post Time: Mon Mar  9 17:59:32 2020\n",
      "Author Name: wasy0326 (往事不再提)\n",
      "Title: [討論] Curry是不是現今有成就也不被認可的球員?\n",
      "Post Time: Mon Mar  9 19:03:52 2020\n",
      "Author Name: DarkApplePie (黑林檎派)\n",
      "Title: Re: [討論] LBJ現今擁有的成就已經能超過賈霸了嗎\n",
      "Post Time: Mon Mar  9 19:13:14 2020\n",
      "Author Name: Yui5 (唯控)\n",
      "Title: [新聞] 獨行俠再質疑判決 唐西奇怨裁判無視慘遭\n",
      "Post Time: Mon Mar  9 19:17:50 2020\n",
      "Author Name: qazwsx879345 (Rajon Rondo)\n",
      "Title: [公告] 版主上任相關事項\n",
      "Post Time: Fri Oct 25 10:44:03 2019\n",
      "Author Name: Acetoxy (阿斯)\n",
      "Title: [情報] SEASON Schedule 賽程 March 19–20\n",
      "Post Time: Mon Mar  2 01:19:40 2020\n",
      "Author Name: Vedan (味丹)\n",
      "Title: Fw: [公告] 即日起開放 NTU 信箱註冊帳號\n",
      "Post Time: Wed Mar  4 12:50:19 2020\n",
      "Author Name: Vedan (味丹)\n",
      "Title: [公告] 第一次被退文，可在三天後刪除退文\n",
      "Post Time: Mon Mar  9 11:44:26 2020\n"
     ]
    }
   ],
   "source": [
    "AllPost = soup.find_all(class_='title')\n",
    "#print(AllPost)\n",
    "for p in AllPost:\n",
    "    #NewestPost = p.find(class_=\"title\")\n",
    "    NewestPostr = requests.get('https://www.ptt.cc'+p.find('a')['href'])\n",
    "    NewSoup = BeautifulSoup(NewestPostr.text, \"html5lib\")\n",
    "    allmeta = NewSoup.find_all('span','article-meta-value')\n",
    "    #print(allmeta)\n",
    "    try:\n",
    "        AuthorName = allmeta[0]\n",
    "        print('Author Name: '+ AuthorName.text)\n",
    "        TitleName = allmeta[2]\n",
    "        print('Title: '+TitleName.text.split(\"-\")[0])\n",
    "        TimePoint = allmeta[3]\n",
    "        print('Post Time: '+TimePoint.text)\n",
    "        \n",
    "    except:\n",
    "        pass"
   ]
  },
  {
   "cell_type": "markdown",
   "metadata": {},
   "source": [
    "### ③ 試著爬爬看其他版的文章"
   ]
  },
  {
   "cell_type": "code",
   "execution_count": 22,
   "metadata": {},
   "outputs": [],
   "source": [
    "import requests\n",
    "from bs4 import BeautifulSoup\n",
    "\n",
    "url = 'https://www.ptt.cc/bbs/Stock/index.html'\n",
    "r = requests.get(url)\n",
    "\n",
    "soup = BeautifulSoup(r.text, \"html5lib\")\n"
   ]
  },
  {
   "cell_type": "code",
   "execution_count": 23,
   "metadata": {},
   "outputs": [
    {
     "name": "stdout",
     "output_type": "stream",
     "text": [
      "Author Name: iceberg (冰山先生)\n",
      "Title: Re: [心得] 畢業文 從此不買石油股\n",
      "Post Time: Mon Mar  9 19:36:53 2020\n",
      "Author Name: PChome24h (冒牌PChome24h購物)\n",
      "Title: [新聞] 信心喊話 金管會：台股相對抗跌 高殖利率\n",
      "Post Time: Mon Mar  9 19:37:36 2020\n",
      "Author Name: chinaeatshit (我愛台灣！中國吃屎！！)\n",
      "Title: [其他] (2337)旺宏\n",
      "Post Time: Mon Mar  9 19:39:05 2020\n",
      "Author Name: aaaazzzz (找英文家教)\n",
      "Title: Re: [請益] 富邦VIX 00677U 後續操作(準畢業)\n",
      "Post Time: Mon Mar  9 19:49:51 2020\n",
      "Author Name: iami1002 (股阿甘)\n",
      "Title: [新聞] 賭博成癮4危險徵兆你中了嗎？\n",
      "Post Time: Mon Mar  9 20:23:39 2020\n",
      "Author Name: bernard2015 (bernard)\n",
      "Title: [新聞] 證交所喊話：台股兩優勢投資人勿慌\n",
      "Post Time: Mon Mar  9 20:36:33 2020\n",
      "Author Name: vic6655443 (nivic)\n",
      "Title: Re: [情報] 上海發生兩起聚集性疫情\n",
      "Post Time: Mon Mar  9 20:37:52 2020\n",
      "Author Name: apple30 (guiguigk)\n",
      "Title: [請益] 如何查美股ETF的溢價幅度？\n",
      "Post Time: Mon Mar  9 20:38:22 2020\n",
      "Author Name: vipha (日安早安)\n",
      "Title: Re: [心得] 現在還有人會覺得股市0風險嗎？\n",
      "Post Time: Mon Mar  9 20:39:39 2020\n",
      "Author Name: IanLi (IanLi)\n",
      "Title: [公告] 精華區導覽Q&A\n",
      "Post Time: Sun Jan 25 23:18:20 2015\n",
      "Author Name: noldorelf (屏東周渝民)\n",
      "Title: [公告] 關於武漢肺炎新聞規範\n",
      "Post Time: Sat Jan 25 15:02:33 2020\n",
      "Author Name: vendan5566 (阿文)\n",
      "Title: [閒聊] 2020/03/09 盤後閒聊\n",
      "Post Time: Mon Mar  9 14:00:00 2020\n"
     ]
    }
   ],
   "source": [
    "AllPost = soup.find_all(class_='title')\n",
    "#print(AllPost)\n",
    "for p in AllPost:\n",
    "    #NewestPost = p.find(class_=\"title\")\n",
    "    NewestPostr = requests.get('https://www.ptt.cc'+p.find('a')['href'])\n",
    "    NewSoup = BeautifulSoup(NewestPostr.text, \"html5lib\")\n",
    "    allmeta = NewSoup.find_all('span','article-meta-value')\n",
    "    #print(allmeta)\n",
    "    try:\n",
    "        AuthorName = allmeta[0]\n",
    "        print('Author Name: '+ AuthorName.text)\n",
    "        TitleName = allmeta[2]\n",
    "        print('Title: '+TitleName.text.split(\"-\")[0])\n",
    "        TimePoint = allmeta[3]\n",
    "        print('Post Time: '+TimePoint.text)\n",
    "        \n",
    "    except:\n",
    "        pass"
   ]
  },
  {
   "cell_type": "code",
   "execution_count": null,
   "metadata": {},
   "outputs": [],
   "source": []
  }
 ],
 "metadata": {
  "kernelspec": {
   "display_name": "Python 3",
   "language": "python",
   "name": "python3"
  },
  "language_info": {
   "codemirror_mode": {
    "name": "ipython",
    "version": 3
   },
   "file_extension": ".py",
   "mimetype": "text/x-python",
   "name": "python",
   "nbconvert_exporter": "python",
   "pygments_lexer": "ipython3",
   "version": "3.7.6"
  }
 },
 "nbformat": 4,
 "nbformat_minor": 2
}
